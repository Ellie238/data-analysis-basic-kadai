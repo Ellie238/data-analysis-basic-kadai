{
  "nbformat": 4,
  "nbformat_minor": 0,
  "metadata": {
    "colab": {
      "provenance": []
    },
    "kernelspec": {
      "name": "python3",
      "display_name": "Python 3"
    },
    "language_info": {
      "name": "python"
    }
  },
  "cells": [
    {
      "cell_type": "code",
      "execution_count": 2,
      "metadata": {
        "colab": {
          "base_uri": "https://localhost:8080/"
        },
        "id": "FJEBPV1FUmUy",
        "outputId": "96e9c257-e7c9-4611-e480-152eaf2ad9e0"
      },
      "outputs": [
        {
          "output_type": "stream",
          "name": "stdout",
          "text": [
            "(178, 13) (124, 13) (54, 13) (178,) (124,) (54,)\n"
          ]
        },
        {
          "output_type": "execute_result",
          "data": {
            "text/plain": [
              "0.9629629629629629"
            ]
          },
          "metadata": {},
          "execution_count": 2
        }
      ],
      "source": [
        "# 1.サンプルデータの取得\n",
        "# load_wine関数をインポート\n",
        "from sklearn.datasets import load_wine\n",
        "\n",
        "# インポートしたload_wine関数を実行し、datasetという変数に代入\n",
        "dataset = load_wine()\n",
        "dataset\n",
        "\n",
        "# ワインの成分を表示\n",
        "dataset.data\n",
        "\n",
        "# 要素の名称を確認\n",
        "dataset.feature_names\n",
        "\n",
        "# データをDataFrame化する\n",
        "# DataFrameのdataにワインの成分（dataset.data）を、columnsに要素名（dataset.feature_names）をセットして、DataFrameを生成\n",
        "import pandas as pd\n",
        "df = pd.DataFrame(data=dataset.data, columns=dataset.feature_names)\n",
        "df.head()\n",
        "\n",
        "# ワインの種別を確認\n",
        "dataset.target\n",
        "\n",
        "# DataFrameにワインの種別も追加\n",
        "df['category'] = dataset.target\n",
        "df.head()\n",
        "\n",
        "# データ数を確認\n",
        "df.shape\n",
        "\n",
        "\n",
        "# 2.サンプルデータの分割\n",
        "# 説明変数と目的変数の設定\n",
        "X = dataset.data\n",
        "y = dataset.target\n",
        "\n",
        "# 学習データとテストデータに分割\n",
        "from sklearn.model_selection import train_test_split\n",
        "\n",
        "# train_test_split関数を実行\n",
        "train_test_split(X, y, test_size=0.3, random_state=5)\n",
        "\n",
        "# 変数に代入\n",
        "X_train, X_test, y_train, y_test = train_test_split(X, y, test_size=0.3, random_state=5)\n",
        "print(X.shape, X_train.shape, X_test.shape, y.shape, y_train.shape, y_test.shape)\n",
        "\n",
        "\n",
        "# 3.予測モデルのインスタンス化\n",
        "# ensembleモジュールのRandomForestClassifierクラスをインポート\n",
        "# 予測モデルはランダムフォレスト\n",
        "from sklearn.ensemble import RandomForestClassifier\n",
        "model = RandomForestClassifier(random_state=3)\n",
        "\n",
        "\n",
        "# 4.予測モデルの学習\n",
        "model.fit(X_train, y_train)\n",
        "\n",
        "\n",
        "# 5.予測モデルの評価\n",
        "y_pred = model.predict(X_test)\n",
        "y_pred\n",
        "y_test\n",
        "\n",
        "# 評価指標として正解率を利用\n",
        "from sklearn.metrics import accuracy_score\n",
        "accuracy_score(y_test, y_pred)\n",
        "\n",
        "# scoreメソッドを利用\n",
        "model.score(X_test, y_test)\n"
      ]
    }
  ]
}