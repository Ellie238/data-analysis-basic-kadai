{
  "nbformat": 4,
  "nbformat_minor": 0,
  "metadata": {
    "colab": {
      "provenance": []
    },
    "kernelspec": {
      "name": "python3",
      "display_name": "Python 3"
    },
    "language_info": {
      "name": "python"
    }
  },
  "cells": [
    {
      "cell_type": "code",
      "execution_count": null,
      "metadata": {
        "id": "prkkcgpBjePg"
      },
      "outputs": [],
      "source": [
        "# matplot.pyployメソッドをインポート\n",
        "import matplotlib.pyplot as plt\n",
        "\n",
        "# numpyをインポート\n",
        "import numpy as np\n",
        "\n",
        "# 領域を作成する\n",
        "fig, axes = plt.subplots(2, 3, tight_layout=True)\n",
        "\n",
        "# 折れ線グラフ\n",
        "y0 = [1, 2, -5, 2]\n",
        "axes[0, 0].plot(y0)\n",
        "axes[0, 0].set_title('Line Plot')\n",
        "\n",
        "# sin関数\n",
        "x1 = np.linspace(0, 10, 100)\n",
        "y1 = 2 + 2 * np.sin(2 * x1)\n",
        "axes[0, 1].plot(x1, y1)\n",
        "axes[0, 1].set_title('Sin Function')\n",
        "\n",
        "# ヒストグラム\n",
        "x2 = np.random.normal(15, 5, 2000)\n",
        "axes[0, 2].hist(x2, bins=50) # hist()メソッドを使用し、引数を正しく指定\n",
        "axes[0, 2].set_title('Histogram')\n",
        "\n",
        "# 散布図\n",
        "x3 = 4 + np.random.normal(0, 2, 60)\n",
        "y3 = 4 + np.random.normal(0, 2, len(x3))\n",
        "axes[1, 0].scatter(x3, y3) # scatter()メソッドを使用\n",
        "axes[1, 0].set_title('Scatter Plot')\n",
        "\n",
        "# 空いているグラフにもタイトルを付けておく\n",
        "axes[1, 1].set_title('Empty Plot')\n",
        "axes[1, 2].set_title('Empty Plot')\n",
        "\n",
        "plt.show()\n",
        "\n",
        "\n"
      ]
    }
  ]
}